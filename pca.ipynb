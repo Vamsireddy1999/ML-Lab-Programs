{
  "nbformat": 4,
  "nbformat_minor": 0,
  "metadata": {
    "colab": {
      "name": "pca.ipynb",
      "provenance": [],
      "collapsed_sections": [],
      "authorship_tag": "ABX9TyOXpYW9F3mxalNWm1lKDLkd",
      "include_colab_link": true
    },
    "kernelspec": {
      "name": "python3",
      "display_name": "Python 3"
    }
  },
  "cells": [
    {
      "cell_type": "markdown",
      "metadata": {
        "id": "view-in-github",
        "colab_type": "text"
      },
      "source": [
        "<a href=\"https://colab.research.google.com/github/vamsireddy22/ML-Lab-Programs/blob/master/pca.ipynb\" target=\"_parent\"><img src=\"https://colab.research.google.com/assets/colab-badge.svg\" alt=\"Open In Colab\"/></a>"
      ]
    },
    {
      "cell_type": "code",
      "metadata": {
        "id": "KfjlsHA9NaTK",
        "colab_type": "code",
        "colab": {}
      },
      "source": [
        "from sklearn.datasets import fetch_openml\n",
        "from sklearn.model_selection import train_test_split"
      ],
      "execution_count": 0,
      "outputs": []
    },
    {
      "cell_type": "code",
      "metadata": {
        "id": "FG1p5qIyNz3Y",
        "colab_type": "code",
        "colab": {}
      },
      "source": [
        "mnist=fetch_openml('mnist_784',version=1,cache=True)"
      ],
      "execution_count": 0,
      "outputs": []
    },
    {
      "cell_type": "code",
      "metadata": {
        "id": "tjs8TX1OOWUF",
        "colab_type": "code",
        "colab": {}
      },
      "source": [
        "x=mnist['data']\n",
        "y=mnist['target']"
      ],
      "execution_count": 0,
      "outputs": []
    },
    {
      "cell_type": "code",
      "metadata": {
        "id": "sSYtBNfcOefk",
        "colab_type": "code",
        "colab": {}
      },
      "source": [
        "x_train,x_test,y_train,y_test=train_test_split(x,y)"
      ],
      "execution_count": 0,
      "outputs": []
    },
    {
      "cell_type": "code",
      "metadata": {
        "id": "LQOmKRMqOlYT",
        "colab_type": "code",
        "colab": {}
      },
      "source": [
        "from sklearn.decomposition import PCA\n",
        "import numpy as np"
      ],
      "execution_count": 0,
      "outputs": []
    },
    {
      "cell_type": "code",
      "metadata": {
        "id": "ECsoFAjnO2jz",
        "colab_type": "code",
        "colab": {}
      },
      "source": [
        "pca=PCA()"
      ],
      "execution_count": 0,
      "outputs": []
    },
    {
      "cell_type": "code",
      "metadata": {
        "id": "uh-XQ0JTO5uS",
        "colab_type": "code",
        "outputId": "3d20d19b-bb15-49f6-db8b-b0ba8a0fbfe5",
        "colab": {
          "base_uri": "https://localhost:8080/",
          "height": 51
        }
      },
      "source": [
        "pca.fit(x_train)"
      ],
      "execution_count": 0,
      "outputs": [
        {
          "output_type": "execute_result",
          "data": {
            "text/plain": [
              "PCA(copy=True, iterated_power='auto', n_components=None, random_state=None,\n",
              "    svd_solver='auto', tol=0.0, whiten=False)"
            ]
          },
          "metadata": {
            "tags": []
          },
          "execution_count": 12
        }
      ]
    },
    {
      "cell_type": "code",
      "metadata": {
        "id": "ORp-rze-O_uq",
        "colab_type": "code",
        "colab": {}
      },
      "source": [
        "cumsum=np.cumsum(pca.explained_variance_ratio_)"
      ],
      "execution_count": 0,
      "outputs": []
    },
    {
      "cell_type": "code",
      "metadata": {
        "id": "0Zi9XFZ3PNvb",
        "colab_type": "code",
        "colab": {}
      },
      "source": [
        "d=np.argmax(cumsum>=0.95)+1"
      ],
      "execution_count": 0,
      "outputs": []
    },
    {
      "cell_type": "code",
      "metadata": {
        "id": "rcgE58kFPYlC",
        "colab_type": "code",
        "outputId": "440ec0b1-81a2-4bec-96ba-59d99a084fd2",
        "colab": {
          "base_uri": "https://localhost:8080/",
          "height": 34
        }
      },
      "source": [
        "d"
      ],
      "execution_count": 0,
      "outputs": [
        {
          "output_type": "execute_result",
          "data": {
            "text/plain": [
              "154"
            ]
          },
          "metadata": {
            "tags": []
          },
          "execution_count": 17
        }
      ]
    },
    {
      "cell_type": "code",
      "metadata": {
        "id": "KNzxUHGSPbML",
        "colab_type": "code",
        "outputId": "8d67fa2a-70b7-412b-f2f4-5c7bc7475927",
        "colab": {
          "base_uri": "https://localhost:8080/",
          "height": 34
        }
      },
      "source": [
        "np.sum(pca.explained_variance_ratio_)"
      ],
      "execution_count": 0,
      "outputs": [
        {
          "output_type": "execute_result",
          "data": {
            "text/plain": [
              "0.9999999999999999"
            ]
          },
          "metadata": {
            "tags": []
          },
          "execution_count": 18
        }
      ]
    },
    {
      "cell_type": "code",
      "metadata": {
        "id": "lRIkYcHZPe_b",
        "colab_type": "code",
        "colab": {}
      },
      "source": [
        "pca=PCA(n_components=d)"
      ],
      "execution_count": 0,
      "outputs": []
    },
    {
      "cell_type": "code",
      "metadata": {
        "id": "pKyTHO2nPl-q",
        "colab_type": "code",
        "colab": {}
      },
      "source": [
        "x_reduced=pca.fit_transform(x_train)"
      ],
      "execution_count": 0,
      "outputs": []
    },
    {
      "cell_type": "code",
      "metadata": {
        "id": "wnGKnJsuP2Sq",
        "colab_type": "code",
        "outputId": "5aa32695-39fb-4f39-c745-2322044340b5",
        "colab": {
          "base_uri": "https://localhost:8080/",
          "height": 238
        }
      },
      "source": [
        "x_reduced"
      ],
      "execution_count": 0,
      "outputs": [
        {
          "output_type": "execute_result",
          "data": {
            "text/plain": [
              "array([[ 366.21725133, -268.99885957, -531.41151114, ...,  -15.93393974,\n",
              "          64.82177646,   25.96663148],\n",
              "       [-127.28588529,  828.62679209, -502.90597668, ...,  -50.33402626,\n",
              "          -5.75864477,   43.88670724],\n",
              "       [ -40.32322787,  581.71477881, -312.69322015, ...,  -21.53609055,\n",
              "          21.8015994 ,   52.91779944],\n",
              "       ...,\n",
              "       [  13.5932197 , -868.79583696,  115.64741382, ...,   32.89110063,\n",
              "          28.0008242 ,   -5.59503255],\n",
              "       [-822.40945363, -224.93630148,  -67.30518845, ...,   -8.58220071,\n",
              "         -24.82806067,   -6.30096407],\n",
              "       [-182.74264914,  134.75006001, -337.12338395, ...,   25.93113072,\n",
              "          47.07038495, -102.90371978]])"
            ]
          },
          "metadata": {
            "tags": []
          },
          "execution_count": 23
        }
      ]
    },
    {
      "cell_type": "code",
      "metadata": {
        "id": "JrWHWCacPuYr",
        "colab_type": "code",
        "colab": {}
      },
      "source": [
        "x_recovered=pca.inverse_transform(x_reduced)"
      ],
      "execution_count": 0,
      "outputs": []
    },
    {
      "cell_type": "code",
      "metadata": {
        "id": "dt8fKUT1P0lK",
        "colab_type": "code",
        "outputId": "4ee3e78d-db89-4720-c0ab-6dfa6e82aea5",
        "colab": {
          "base_uri": "https://localhost:8080/",
          "height": 238
        }
      },
      "source": [
        "x_recovered"
      ],
      "execution_count": 0,
      "outputs": [
        {
          "output_type": "execute_result",
          "data": {
            "text/plain": [
              "array([[-3.63243135e-14,  4.21483288e-14,  2.38989003e-14, ...,\n",
              "         0.00000000e+00,  0.00000000e+00,  0.00000000e+00],\n",
              "       [ 6.89690173e-14, -8.53162228e-14,  1.31518088e-14, ...,\n",
              "         0.00000000e+00,  0.00000000e+00,  0.00000000e+00],\n",
              "       [ 6.80112834e-14, -1.44729572e-13, -7.80340805e-14, ...,\n",
              "         0.00000000e+00,  0.00000000e+00,  0.00000000e+00],\n",
              "       ...,\n",
              "       [-2.52165347e-13,  1.87300913e-14,  1.68673002e-14, ...,\n",
              "         0.00000000e+00,  0.00000000e+00,  0.00000000e+00],\n",
              "       [-7.53211587e-14,  1.31036579e-13, -1.14359485e-13, ...,\n",
              "         0.00000000e+00,  0.00000000e+00,  0.00000000e+00],\n",
              "       [-6.18524786e-14,  7.05375665e-14, -2.42675702e-14, ...,\n",
              "         0.00000000e+00,  0.00000000e+00,  0.00000000e+00]])"
            ]
          },
          "metadata": {
            "tags": []
          },
          "execution_count": 24
        }
      ]
    }
  ]
}