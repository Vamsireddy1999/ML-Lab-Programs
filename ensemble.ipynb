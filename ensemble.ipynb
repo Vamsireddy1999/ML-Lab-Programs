{
  "nbformat": 4,
  "nbformat_minor": 0,
  "metadata": {
    "colab": {
      "name": "ensemble.ipynb",
      "provenance": [],
      "include_colab_link": true
    },
    "kernelspec": {
      "name": "python3",
      "display_name": "Python 3"
    }
  },
  "cells": [
    {
      "cell_type": "markdown",
      "metadata": {
        "id": "view-in-github",
        "colab_type": "text"
      },
      "source": [
        "<a href=\"https://colab.research.google.com/github/vamsireddy22/ML-Lab-Programs/blob/master/ensemble.ipynb\" target=\"_parent\"><img src=\"https://colab.research.google.com/assets/colab-badge.svg\" alt=\"Open In Colab\"/></a>"
      ]
    },
    {
      "cell_type": "code",
      "metadata": {
        "id": "YjJIA_4bAoiW",
        "colab_type": "code",
        "outputId": "b1d74efa-638a-47d5-84d8-5af9644bd609",
        "colab": {
          "base_uri": "https://localhost:8080/",
          "height": 85
        }
      },
      "source": [
        "from sklearn.model_selection import train_test_split\n",
        "from sklearn.datasets import make_moons\n",
        "x,y=make_moons(n_samples=500,noise=0.30,random_state=42)\n",
        "x_train,x_test,y_train,y_test=train_test_split(x,y,random_state=42)\n",
        "from sklearn.ensemble import RandomForestClassifier\n",
        "from sklearn.ensemble import VotingClassifier\n",
        "from sklearn.linear_model import LogisticRegression\n",
        "from sklearn.svm import SVC\n",
        "log_clf=LogisticRegression(solver=\"liblinear\",random_state=42)\n",
        "rnd_clf=RandomForestClassifier(n_estimators=10,random_state=42)\n",
        "svm_clf=SVC(gamma=\"auto\",random_state=42)\n",
        "voting_clf=VotingClassifier(estimators=[('cr',log_clf),('rf',rnd_clf),('svc',svm_clf)],voting='hard')\n",
        "voting_clf.fit(x_train,y_train)\n",
        "from sklearn.metrics import accuracy_score\n",
        "for clf in (log_clf,rnd_clf,svm_clf,voting_clf):\n",
        "    clf.fit(x_train,y_train)\n",
        "    y_pred=clf.predict(x_test)\n",
        "    print(clf.__class__.__name__,accuracy_score(y_test,y_pred))"
      ],
      "execution_count": 0,
      "outputs": [
        {
          "output_type": "stream",
          "text": [
            "LogisticRegression 0.864\n",
            "RandomForestClassifier 0.872\n",
            "SVC 0.888\n",
            "VotingClassifier 0.896\n"
          ],
          "name": "stdout"
        }
      ]
    }
  ]
}