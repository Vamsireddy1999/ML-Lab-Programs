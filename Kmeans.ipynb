{
  "nbformat": 4,
  "nbformat_minor": 0,
  "metadata": {
    "colab": {
      "name": "Kmeans.ipynb",
      "provenance": [],
      "collapsed_sections": [],
      "authorship_tag": "ABX9TyM+4ex5er+bcswUqbL6AqMF",
      "include_colab_link": true
    },
    "kernelspec": {
      "name": "python3",
      "display_name": "Python 3"
    }
  },
  "cells": [
    {
      "cell_type": "markdown",
      "metadata": {
        "id": "view-in-github",
        "colab_type": "text"
      },
      "source": [
        "<a href=\"https://colab.research.google.com/github/vamsireddy22/ML-Lab-Programs/blob/master/Kmeans.ipynb\" target=\"_parent\"><img src=\"https://colab.research.google.com/assets/colab-badge.svg\" alt=\"Open In Colab\"/></a>"
      ]
    },
    {
      "cell_type": "code",
      "metadata": {
        "id": "b3UQT5MUM-Bb",
        "colab_type": "code",
        "colab": {}
      },
      "source": [
        "import pandas as pd\n",
        "import numpy as np\n",
        "from sklearn.cluster import KMeans\n",
        "import matplotlib.pyplot as plt\n"
      ],
      "execution_count": 0,
      "outputs": []
    },
    {
      "cell_type": "code",
      "metadata": {
        "id": "D0CPRPZwNx4p",
        "colab_type": "code",
        "colab": {}
      },
      "source": [
        "data={'X':[25,23,30,40,15,20,26,27,30,35,5,6,7,8,9,34,54,67,8,45],'Y':[50,55,60,57,62,56,63,64,70,75,34,55,67,78,45,68,76,80,68,75]}"
      ],
      "execution_count": 0,
      "outputs": []
    },
    {
      "cell_type": "code",
      "metadata": {
        "id": "IzXyuyYrOUEI",
        "colab_type": "code",
        "colab": {}
      },
      "source": [
        "data=pd.DataFrame(data)"
      ],
      "execution_count": 0,
      "outputs": []
    },
    {
      "cell_type": "code",
      "metadata": {
        "id": "b_oATjRuOh9G",
        "colab_type": "code",
        "colab": {}
      },
      "source": [
        "data"
      ],
      "execution_count": 0,
      "outputs": []
    },
    {
      "cell_type": "code",
      "metadata": {
        "id": "VInYKhocOjz1",
        "colab_type": "code",
        "colab": {}
      },
      "source": [
        "model=KMeans(n_clusters=3)"
      ],
      "execution_count": 0,
      "outputs": []
    },
    {
      "cell_type": "code",
      "metadata": {
        "id": "AvcZR3pbO0PK",
        "colab_type": "code",
        "colab": {}
      },
      "source": [
        "kmeans=model.fit(data)"
      ],
      "execution_count": 0,
      "outputs": []
    },
    {
      "cell_type": "code",
      "metadata": {
        "id": "LmezXMcDPpMt",
        "colab_type": "code",
        "colab": {}
      },
      "source": [
        "centroids=kmeans.cluster_centers_"
      ],
      "execution_count": 0,
      "outputs": []
    },
    {
      "cell_type": "code",
      "metadata": {
        "id": "028QSCRhP0Xd",
        "colab_type": "code",
        "colab": {}
      },
      "source": [
        "centroids"
      ],
      "execution_count": 0,
      "outputs": []
    },
    {
      "cell_type": "code",
      "metadata": {
        "id": "FGdqm3yFO2r6",
        "colab_type": "code",
        "colab": {}
      },
      "source": [
        "plt.scatter(data['X'],data['Y'])"
      ],
      "execution_count": 0,
      "outputs": []
    },
    {
      "cell_type": "code",
      "metadata": {
        "id": "YnJOj8TWQsS3",
        "colab_type": "code",
        "colab": {}
      },
      "source": [
        "plt.scatter(centroids[:,0],centroids[:,1],c='red')"
      ],
      "execution_count": 0,
      "outputs": []
    }
  ]
}